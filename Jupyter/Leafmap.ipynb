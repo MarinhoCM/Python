{
 "cells": [
  {
   "attachments": {},
   "cell_type": "markdown",
   "id": "bc6edf3b",
   "metadata": {},
   "source": [
    "<h2>🚀Leafmap Project</h2>"
   ]
  },
  {
   "attachments": {},
   "cell_type": "markdown",
   "id": "fb148028",
   "metadata": {},
   "source": [
    "<p>O objetivo desta missão é estudar o tutorial disponibilizado em https://leafmap.org/workshops/YouthMappers_2021/ e montar um mapa com enquadramento do estado do CE. Este mapa deverá apresentar uma animação com a evolução temporal com uma imagem de satélite, conforme exemplos do tutorial. Fazer 2 animações com imagens de satélites diferentes.\n",
    "Tente incluir no mapa o máximo de recursos que conseguir para tornar a aplicação mais funcional.\n",
    "\n",
    "Dicas de estudo: https://www.youtube.com/c/Qiushengwu<br>\n",
    "https://www.youtube.com/watch?v=2K6zZGuuRTo</p>"
   ]
  },
  {
   "cell_type": "code",
   "execution_count": null,
   "id": "dd1eec2c",
   "metadata": {},
   "outputs": [],
   "source": [
    "try:\n",
    "    import leafmap\n",
    "except ImportError:\n",
    "    install('leafmap')"
   ]
  },
  {
   "cell_type": "code",
   "execution_count": 4,
   "id": "e5fffbfd",
   "metadata": {},
   "outputs": [
    {
     "data": {
      "application/vnd.jupyter.widget-view+json": {
       "model_id": "7072927568534f7d9b0a4585e449c422",
       "version_major": 2,
       "version_minor": 0
      },
      "text/plain": [
       "Map(center=[20, 0], controls=(ZoomControl(options=['position', 'zoom_in_text', 'zoom_in_title', 'zoom_out_text…"
      ]
     },
     "metadata": {},
     "output_type": "display_data"
    }
   ],
   "source": [
    "import leafmap\n",
    "import os\n",
    "\n",
    "m = leafmap.Map(center=[-5, -39])\n",
    "m\n",
    "\n",
    "if os.environ.get(\"PLANET_API_KEY\") is None:\n",
    "    os.environ[\"PLANET_API_KEY\"] = 'PLAK20b2cfcce7ba4390b55628d7fd46d641'\n",
    "\n",
    "m.add_planet_by_quarter(year=2016, quarter=1)\n",
    "m\n",
    "\n",
    "m = leafmap.Map(\n",
    "    google_map=\"HYBRID\",height=\"500px\", width=\"800px\"\n",
    "    ,layers_control=True,zoom=8\n",
    ")\n",
    "m.add_osm_from_geocode(\"Ceará\", layer_name='Ceará')\n",
    "m\n",
    "\n",
    "layers_dict = leafmap.planet_quarterly_tiles()\n",
    "m.add_time_slider(layers_dict, time_interval=1)\n",
    "m\n",
    "\n",
    "url = 'https://github.com/giswqs/leafmap/raw/master/examples/data/wind_global.nc'\n",
    "filename = 'wind_global.nc'\n",
    "\n",
    "tif = 'wind_global.tif'\n",
    "leafmap.netcdf_to_tif(\n",
    "    filename, tif, variables=['u_wind', 'v_wind'], shift_lon=True\n",
    ")\n",
    "\n",
    "m.add_velocity(\n",
    "    filename, zonal_speed='u_wind',\n",
    "    meridional_speed='v_wind'\n",
    ")\n",
    "m"
   ]
  }
 ],
 "metadata": {
  "kernelspec": {
   "display_name": "Python 3 (ipykernel)",
   "language": "python",
   "name": "python3"
  },
  "language_info": {
   "codemirror_mode": {
    "name": "ipython",
    "version": 3
   },
   "file_extension": ".py",
   "mimetype": "text/x-python",
   "name": "python",
   "nbconvert_exporter": "python",
   "pygments_lexer": "ipython3",
   "version": "3.11.4"
  }
 },
 "nbformat": 4,
 "nbformat_minor": 5
}
